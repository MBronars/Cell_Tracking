{
 "cells": [
  {
   "cell_type": "markdown",
   "metadata": {},
   "source": [
    "__Centroid Tracking Notebook:__\n",
    "\n",
    "We are able to find the centroids and percent overlap of cells, now we need to connect this data for a single cell across multiple images"
   ]
  },
  {
   "cell_type": "markdown",
   "metadata": {},
   "source": [
    "_Single Cell Tracking:_"
   ]
  },
  {
   "cell_type": "code",
   "execution_count": 11,
   "metadata": {},
   "outputs": [],
   "source": [
    "import skimage \n",
    "import cv2 as cv\n",
    "from skimage import data, io, filters, measure\n",
    "from matplotlib import pyplot as plt\n",
    "from skimage.transform import rescale, resize\n",
    "from PIL import Image\n",
    "import PIL\n",
    "import numpy as np\n",
    "from PIL import ImageSequence\n",
    "from overlap import getOverlap\n",
    "import math \n",
    "\n",
    "\n"
   ]
  },
  {
   "cell_type": "code",
   "execution_count": 12,
   "metadata": {},
   "outputs": [
    {
     "name": "stdout",
     "output_type": "stream",
     "text": [
      "[((243, 233), 1.0, 0), ((105, 130), 0.6387085137085138, 0), ((220, 274), 1.0, 1), ((134, 57), 1.0, 1), ((309, 285), 0.19282998370450843, 2), ((209, 97), 0.7678346810422282, 2), ((279, 332), 1.0, 3), ((209, 137), 1.0, 3), ((165, 318), 0.3431251105998938, 4), ((248, 178), 1.0, 4), ((119, 319), 1.0, 5), ((270, 143), 1.0, 5), ((154, 266), 0.9871566179093828, 6), ((290, 94), 0.11809761311008193, 6), ((175, 231), 1.0, 7), ((243, 156), 1.0, 7), ((256, 204), 1.0, 8), ((175, 182), 1.0, 8), ((279, 285), 1.0, 9), ((226, 108), 1.0, 9)]\n"
     ]
    }
   ],
   "source": [
    "overlaps = getOverlap('test_stack.tif','protein.png',False)\n",
    "print(overlaps)"
   ]
  },
  {
   "cell_type": "code",
   "execution_count": 18,
   "metadata": {},
   "outputs": [
    {
     "name": "stdout",
     "output_type": "stream",
     "text": [
      "[((243, 233), 1.0, 0)]\n",
      "0\n"
     ]
    },
    {
     "ename": "TypeError",
     "evalue": "object of type 'int' has no len()",
     "output_type": "error",
     "traceback": [
      "\u001b[0;31m---------------------------------------------------------------------------\u001b[0m",
      "\u001b[0;31mTypeError\u001b[0m                                 Traceback (most recent call last)",
      "\u001b[0;32m<ipython-input-18-48564dec7d1a>\u001b[0m in \u001b[0;36m<module>\u001b[0;34m\u001b[0m\n\u001b[1;32m     25\u001b[0m             \u001b[0;32mfor\u001b[0m \u001b[0mc\u001b[0m \u001b[0;32min\u001b[0m \u001b[0musing\u001b[0m\u001b[0;34m:\u001b[0m\u001b[0;34m\u001b[0m\u001b[0;34m\u001b[0m\u001b[0m\n\u001b[1;32m     26\u001b[0m                 \u001b[0mprint\u001b[0m\u001b[0;34m(\u001b[0m\u001b[0mi\u001b[0m\u001b[0;34m)\u001b[0m\u001b[0;34m\u001b[0m\u001b[0;34m\u001b[0m\u001b[0m\n\u001b[0;32m---> 27\u001b[0;31m                 \u001b[0mdist\u001b[0m \u001b[0;34m=\u001b[0m \u001b[0mdistance\u001b[0m\u001b[0;34m(\u001b[0m\u001b[0mc\u001b[0m\u001b[0;34m,\u001b[0m\u001b[0mi\u001b[0m\u001b[0;34m[\u001b[0m\u001b[0mlen\u001b[0m\u001b[0;34m(\u001b[0m\u001b[0mi\u001b[0m\u001b[0;34m)\u001b[0m\u001b[0;34m-\u001b[0m\u001b[0;36m1\u001b[0m\u001b[0;34m]\u001b[0m\u001b[0;34m)\u001b[0m\u001b[0;34m\u001b[0m\u001b[0;34m\u001b[0m\u001b[0m\n\u001b[0m\u001b[1;32m     28\u001b[0m                 \u001b[0;32mif\u001b[0m \u001b[0mdist\u001b[0m \u001b[0;34m<\u001b[0m \u001b[0mbest\u001b[0m\u001b[0;34m:\u001b[0m\u001b[0;34m\u001b[0m\u001b[0;34m\u001b[0m\u001b[0m\n\u001b[1;32m     29\u001b[0m                     \u001b[0mbest\u001b[0m \u001b[0;34m=\u001b[0m \u001b[0mdist\u001b[0m\u001b[0;34m\u001b[0m\u001b[0;34m\u001b[0m\u001b[0m\n",
      "\u001b[0;31mTypeError\u001b[0m: object of type 'int' has no len()"
     ]
    }
   ],
   "source": [
    "def distance(x,y):  \n",
    "     dist = math.sqrt((x[0][1] - x[0][0])**2 + (y[0][1] - y[0][0])**2)  \n",
    "     return dist \n",
    "cells = [[]]\n",
    "numCells = 0\n",
    "curr = 1\n",
    "using = []\n",
    "for x in overlaps:\n",
    "    if x[2] == 0:\n",
    "        cells.append([x])\n",
    "        numCells += 1\n",
    "        continue\n",
    "    if x[2] == curr:\n",
    "        using.append(x)\n",
    "    else:\n",
    "        curr += 1\n",
    "        index = -1\n",
    "        for i in cells:\n",
    "            index += 1\n",
    "            if len(using)==0:\n",
    "                cells.append([x])\n",
    "                continue\n",
    "            best = 999999\n",
    "            count = 0\n",
    "            for c in using:\n",
    "                print(i)\n",
    "                dist = distance(c,i[len(i)-1])\n",
    "                if dist < best:\n",
    "                    best = dist\n",
    "                    i = count\n",
    "                count += 1\n",
    "            i.append(using[count])\n",
    "            using.pop(count)\n",
    "                \n",
    "                \n",
    "                \n",
    "            \n",
    "            \n",
    "        \n",
    "        \n",
    "        \n",
    "         \n",
    "        \n",
    "    "
   ]
  },
  {
   "cell_type": "code",
   "execution_count": null,
   "metadata": {},
   "outputs": [],
   "source": []
  },
  {
   "cell_type": "code",
   "execution_count": null,
   "metadata": {},
   "outputs": [],
   "source": []
  }
 ],
 "metadata": {
  "kernelspec": {
   "display_name": "Python 3",
   "language": "python",
   "name": "python3"
  },
  "language_info": {
   "codemirror_mode": {
    "name": "ipython",
    "version": 3
   },
   "file_extension": ".py",
   "mimetype": "text/x-python",
   "name": "python",
   "nbconvert_exporter": "python",
   "pygments_lexer": "ipython3",
   "version": "3.7.6"
  }
 },
 "nbformat": 4,
 "nbformat_minor": 4
}
