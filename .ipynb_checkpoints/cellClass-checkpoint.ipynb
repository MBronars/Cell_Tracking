{
 "cells": [
  {
   "cell_type": "code",
   "execution_count": null,
   "metadata": {},
   "outputs": [],
   "source": [
    "class Cell:\n",
    "    def _init_(self, name, start, history):\n",
    "        self.name = name\n",
    "        self.start = start\n",
    "        self.history = history\n",
    "    def display(self):\n",
    "        print(\"Cell \" + self.name + \":\")\n",
    "        i = self.start\n",
    "        for c in self.history:\n",
    "            print(\"Frame \" + i + \": \" + c)\n",
    "            "
   ]
  }
 ],
 "metadata": {
  "kernelspec": {
   "display_name": "Python 3",
   "language": "python",
   "name": "python3"
  },
  "language_info": {
   "codemirror_mode": {
    "name": "ipython",
    "version": 3
   },
   "file_extension": ".py",
   "mimetype": "text/x-python",
   "name": "python",
   "nbconvert_exporter": "python",
   "pygments_lexer": "ipython3",
   "version": "3.7.6"
  }
 },
 "nbformat": 4,
 "nbformat_minor": 4
}
