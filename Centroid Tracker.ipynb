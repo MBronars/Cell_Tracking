{
 "cells": [
  {
   "cell_type": "markdown",
   "metadata": {},
   "source": [
    "__Centroid Tracking Notebook:__\n",
    "\n",
    "We are able to find the centroids and percent overlap of cells, now we need to connect this data for a single cell across multiple images"
   ]
  },
  {
   "cell_type": "markdown",
   "metadata": {},
   "source": [
    "_Single Cell Tracking:_"
   ]
  },
  {
   "cell_type": "code",
   "execution_count": 46,
   "metadata": {},
   "outputs": [],
   "source": [
    "import skimage \n",
    "import cv2 as cv\n",
    "from skimage import data, io, filters, measure\n",
    "from matplotlib import pyplot as plt\n",
    "from skimage.transform import rescale, resize\n",
    "from PIL import Image\n",
    "import PIL\n",
    "import numpy as np\n",
    "from PIL import ImageSequence\n",
    "from overlap import getOverlap\n",
    "import math \n",
    "\n",
    "\n"
   ]
  },
  {
   "cell_type": "code",
   "execution_count": 47,
   "metadata": {},
   "outputs": [
    {
     "name": "stdout",
     "output_type": "stream",
     "text": [
      "[((243, 233), 1.0, 0), ((105, 130), 0.6387085137085138, 0), ((220, 274), 1.0, 1), ((134, 57), 1.0, 1), ((309, 285), 0.19282998370450843, 2), ((209, 97), 0.7678346810422282, 2), ((279, 332), 1.0, 3), ((209, 137), 1.0, 3), ((165, 318), 0.3431251105998938, 4), ((248, 178), 1.0, 4), ((119, 319), 1.0, 5), ((270, 143), 1.0, 5), ((154, 266), 0.9871566179093828, 6), ((290, 94), 0.11809761311008193, 6), ((175, 231), 1.0, 7), ((243, 156), 1.0, 7), ((256, 204), 1.0, 8), ((175, 182), 1.0, 8), ((279, 285), 1.0, 9), ((226, 108), 1.0, 9)]\n"
     ]
    }
   ],
   "source": [
    "overlaps = getOverlap('test_stack.tif','protein.png',False)\n",
    "print(overlaps)"
   ]
  },
  {
   "cell_type": "code",
   "execution_count": 48,
   "metadata": {},
   "outputs": [
    {
     "name": "stdout",
     "output_type": "stream",
     "text": [
      "[[((243, 233), 1.0, 0), ((220, 274), 1.0, 1), ((309, 285), 0.19282998370450843, 2), ((279, 332), 1.0, 3), ((165, 318), 0.3431251105998938, 4), ((119, 319), 1.0, 5), ((154, 266), 0.9871566179093828, 6), ((175, 231), 1.0, 7), ((175, 182), 1.0, 8), ((226, 108), 1.0, 9)], [((105, 130), 0.6387085137085138, 0), ((134, 57), 1.0, 1), ((209, 97), 0.7678346810422282, 2), ((209, 137), 1.0, 3), ((248, 178), 1.0, 4), ((270, 143), 1.0, 5), ((290, 94), 0.11809761311008193, 6), ((243, 156), 1.0, 7), ((256, 204), 1.0, 8), ((279, 285), 1.0, 9)]]\n"
     ]
    }
   ],
   "source": [
    "def distance(x,y):  \n",
    "     dist = math.sqrt((x[0][0] - y[0][0])**2 + (x[0][1] - y[0][1])**2)  \n",
    "     return dist \n",
    "cells = []\n",
    "numCells = 0\n",
    "curr = 1\n",
    "using = []\n",
    "overlaps.append((1,2,-1))\n",
    "for x in overlaps:\n",
    "    if x[2] == 0:\n",
    "        cells.append([x])\n",
    "        numCells += 1\n",
    "        continue\n",
    "    if x[2] == curr:\n",
    "        using.append(x)\n",
    "    else:\n",
    "        curr += 1\n",
    "        index = -1\n",
    "        for i in cells:\n",
    "            index += 1\n",
    "            best = 999999\n",
    "            dex = 0\n",
    "            count = 0\n",
    "            for c in using:\n",
    "                dist = distance(c,i[len(i)-1])\n",
    "                if dist < best:\n",
    "                    best = dist\n",
    "                    dex = count\n",
    "                count += 1\n",
    "            i.append(using[dex])\n",
    "            using.pop(dex)\n",
    "        if len(using)!=0:\n",
    "            for c in using:\n",
    "                cells.append([c])\n",
    "        using.append(x)\n",
    "print(cells)"
   ]
  },
  {
   "cell_type": "code",
   "execution_count": 49,
   "metadata": {},
   "outputs": [
    {
     "name": "stdout",
     "output_type": "stream",
     "text": [
      "Cell 0:\n",
      "\n",
      "T1: (243, 233)\n",
      "\n",
      "T2: (220, 274)\n",
      "\n",
      "T3: (309, 285)\n",
      "\n",
      "T4: (279, 332)\n",
      "\n",
      "T5: (165, 318)\n",
      "\n",
      "T6: (119, 319)\n",
      "\n",
      "T7: (154, 266)\n",
      "\n",
      "T8: (175, 231)\n",
      "\n",
      "T9: (175, 182)\n",
      "\n",
      "T10: (226, 108)\n",
      "\n",
      "Fraction of time spent on protien: 0.8523111712213784\n",
      "\n",
      "\n",
      "Cell 1:\n",
      "\n",
      "T1: (105, 130)\n",
      "\n",
      "T2: (134, 57)\n",
      "\n",
      "T3: (209, 97)\n",
      "\n",
      "T4: (209, 137)\n",
      "\n",
      "T5: (248, 178)\n",
      "\n",
      "T6: (270, 143)\n",
      "\n",
      "T7: (290, 94)\n",
      "\n",
      "T8: (243, 156)\n",
      "\n",
      "T9: (256, 204)\n",
      "\n",
      "T10: (279, 285)\n",
      "\n",
      "Fraction of time spent on protien: 0.8524640807860824\n",
      "\n",
      "\n"
     ]
    }
   ],
   "source": [
    "count = 0\n",
    "for x in cells:\n",
    "    print(\"Cell \" + str(count)+ \":\\n\")\n",
    "    sub = 0\n",
    "    total = 0\n",
    "    for i in x:\n",
    "        sub += 1\n",
    "        total += i[1]\n",
    "        print(\"T\" + str(sub) + \": \" + str(i[0]) + \"\\n\")\n",
    "    print(\"Fraction of time spent on protien: \" + str(total/sub) + \"\\n\\n\")\n",
    "    count += 1"
   ]
  },
  {
   "cell_type": "code",
   "execution_count": 50,
   "metadata": {},
   "outputs": [
    {
     "name": "stdout",
     "output_type": "stream",
     "text": [
      "100.57832768544127\n",
      "84.20213774008353\n",
      "89.87213138676528\n",
      "146.37281168304446\n"
     ]
    }
   ],
   "source": [
    "a = distance(((256,204),1),((226,108),1))\n",
    "print(a)\n",
    "b = distance(((256,204),1),((279,285),1))\n",
    "print(b)\n",
    "c = distance(((175,182),1),((226,108),1))\n",
    "print(c)\n",
    "d = distance(((175,182),1),((279,285),1))\n",
    "print(d)"
   ]
  },
  {
   "cell_type": "code",
   "execution_count": null,
   "metadata": {},
   "outputs": [],
   "source": []
  }
 ],
 "metadata": {
  "kernelspec": {
   "display_name": "Python 3",
   "language": "python",
   "name": "python3"
  },
  "language_info": {
   "codemirror_mode": {
    "name": "ipython",
    "version": 3
   },
   "file_extension": ".py",
   "mimetype": "text/x-python",
   "name": "python",
   "nbconvert_exporter": "python",
   "pygments_lexer": "ipython3",
   "version": "3.7.6"
  }
 },
 "nbformat": 4,
 "nbformat_minor": 4
}
