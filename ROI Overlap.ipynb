{
 "cells": [
  {
   "cell_type": "markdown",
   "metadata": {},
   "source": [
    "__ROI Overlap Notebook:__\n",
    "\n",
    "This notebook explored the ways that pyhton can be used to track the overlap of Regions Of Interest in an Image"
   ]
  },
  {
   "cell_type": "markdown",
   "metadata": {},
   "source": [
    "__Setup:__ We begin by importing all of our packages and loading the image data."
   ]
  },
  {
   "cell_type": "code",
   "execution_count": 1,
   "metadata": {},
   "outputs": [],
   "source": [
    "import skimage \n",
    "import cv2 as cv\n",
    "from skimage import data, io, filters, measure\n",
    "from matplotlib import pyplot as plt\n",
    "from skimage.transform import rescale, resize\n",
    "from PIL import Image\n",
    "import numpy as np"
   ]
  },
  {
   "cell_type": "code",
   "execution_count": 2,
   "metadata": {},
   "outputs": [
    {
     "name": "stdout",
     "output_type": "stream",
     "text": [
      "Cell:\n"
     ]
    },
    {
     "data": {
      "image/png": "[encoded data removed]",
      "text/plain": [
       "<Figure size 432x288 with 1 Axes>"
      ]
     },
     "metadata": {
      "needs_background": "light"
     },
     "output_type": "display_data"
    },
    {
     "name": "stdout",
     "output_type": "stream",
     "text": [
      "Protien:\n"
     ]
    },
    {
     "data": {
      "image/png": "[encoded data removed]",
      "text/plain": [
       "<Figure size 432x288 with 1 Axes>"
      ]
     },
     "metadata": {
      "needs_background": "light"
     },
     "output_type": "display_data"
    }
   ],
   "source": [
    "cell = io.imread(\"Cell.png\")\n",
    "cell = resize(cell, (400,400))\n",
    "protien = io.imread(\"Protien.png\")\n",
    "protien = resize(protien, (400,400))\n",
    "print(\"Cell:\")\n",
    "plt.imshow(cell)\n",
    "plt.show()\n",
    "print(\"Protien:\")\n",
    "plt.imshow(protien)\n",
    "plt.show()"
   ]
  },
  {
   "cell_type": "markdown",
   "metadata": {},
   "source": [
    "__Analysis__: The goal is to determine what percentage of the Cell overlaps with the Protien, and the first step is to get a third image that just contains the overlapping region"
   ]
  },
  {
   "cell_type": "code",
   "execution_count": 3,
   "metadata": {},
   "outputs": [
    {
     "name": "stderr",
     "output_type": "stream",
     "text": [
      "Clipping input data to the valid range for imshow with RGB data ([0..1] for floats or [0..255] for integers).\n"
     ]
    },
    {
     "data": {
      "image/png": "[encoded data removed]",
      "text/plain": [
       "<Figure size 432x288 with 1 Axes>"
      ]
     },
     "metadata": {
      "needs_background": "light"
     },
     "output_type": "display_data"
    }
   ],
   "source": [
    "overlap = protien + cell\n",
    "#print(overlap)\n",
    "plt.imshow(overlap)\n",
    "plt.show()"
   ]
  },
  {
   "cell_type": "markdown",
   "metadata": {},
   "source": [
    "*While this is the desired result, but the pixel values are all messed up now.  Getting this subsection is not a clean procedure without bitwise operations*"
   ]
  },
  {
   "cell_type": "code",
   "execution_count": 14,
   "metadata": {},
   "outputs": [
    {
     "name": "stdout",
     "output_type": "stream",
     "text": [
      "[[255 255 255]\n",
      " [255 255 255]\n",
      " [255 255 255]\n",
      " ...\n",
      " [255 255 255]\n",
      " [255 255 255]\n",
      " [255 255 255]]\n"
     ]
    },
    {
     "data": {
      "image/png": "[encoded data removed]",
      "text/plain": [
       "<Figure size 432x288 with 1 Axes>"
      ]
     },
     "metadata": {
      "needs_background": "light"
     },
     "output_type": "display_data"
    },
    {
     "ename": "error",
     "evalue": "OpenCV(4.2.0) /Users/travis/build/skvark/opencv-python/opencv/modules/imgproc/src/color.simd_helpers.hpp:92: error: (-2:Unspecified error) in function 'cv::impl::(anonymous namespace)::CvtHelper<cv::impl::(anonymous namespace)::Set<3, 4, -1>, cv::impl::(anonymous namespace)::Set<1, -1, -1>, cv::impl::(anonymous namespace)::Set<0, 2, 5>, cv::impl::(anonymous namespace)::SizePolicy::NONE>::CvtHelper(cv::InputArray, cv::OutputArray, int) [VScn = cv::impl::(anonymous namespace)::Set<3, 4, -1>, VDcn = cv::impl::(anonymous namespace)::Set<1, -1, -1>, VDepth = cv::impl::(anonymous namespace)::Set<0, 2, 5>, sizePolicy = cv::impl::(anonymous namespace)::SizePolicy::NONE]'\n> Invalid number of channels in input image:\n>     'VScn::contains(scn)'\n> where\n>     'scn' is 1\n",
     "output_type": "error",
     "traceback": [
      "\u001b[0;31m---------------------------------------------------------------------------\u001b[0m",
      "\u001b[0;31merror\u001b[0m                                     Traceback (most recent call last)",
      "\u001b[0;32m<ipython-input-14-ea14a985d42f>\u001b[0m in \u001b[0;36m<module>\u001b[0;34m\u001b[0m\n\u001b[1;32m      4\u001b[0m \u001b[0mplt\u001b[0m\u001b[0;34m.\u001b[0m\u001b[0mimshow\u001b[0m\u001b[0;34m(\u001b[0m\u001b[0mcell2\u001b[0m\u001b[0;34m)\u001b[0m\u001b[0;34m\u001b[0m\u001b[0;34m\u001b[0m\u001b[0m\n\u001b[1;32m      5\u001b[0m \u001b[0mplt\u001b[0m\u001b[0;34m.\u001b[0m\u001b[0mshow\u001b[0m\u001b[0;34m(\u001b[0m\u001b[0;34m)\u001b[0m\u001b[0;34m\u001b[0m\u001b[0;34m\u001b[0m\u001b[0m\n\u001b[0;32m----> 6\u001b[0;31m \u001b[0mgray\u001b[0m \u001b[0;34m=\u001b[0m \u001b[0mcv\u001b[0m\u001b[0;34m.\u001b[0m\u001b[0mcvtColor\u001b[0m\u001b[0;34m(\u001b[0m\u001b[0mcell2\u001b[0m\u001b[0;34m,\u001b[0m \u001b[0mcv\u001b[0m\u001b[0;34m.\u001b[0m\u001b[0mCOLOR_BGR2GRAY\u001b[0m\u001b[0;34m)\u001b[0m\u001b[0;34m\u001b[0m\u001b[0;34m\u001b[0m\u001b[0m\n\u001b[0m\u001b[1;32m      7\u001b[0m \u001b[0mret\u001b[0m\u001b[0;34m,\u001b[0m \u001b[0mcellG\u001b[0m \u001b[0;34m=\u001b[0m \u001b[0mcv\u001b[0m\u001b[0;34m.\u001b[0m\u001b[0mthreshold\u001b[0m\u001b[0;34m(\u001b[0m\u001b[0mgray\u001b[0m\u001b[0;34m,\u001b[0m \u001b[0;36m254\u001b[0m\u001b[0;34m,\u001b[0m \u001b[0;36m255\u001b[0m\u001b[0;34m,\u001b[0m \u001b[0;36m0\u001b[0m\u001b[0;34m)\u001b[0m\u001b[0;34m\u001b[0m\u001b[0;34m\u001b[0m\u001b[0m\n\u001b[1;32m      8\u001b[0m \u001b[0mplt\u001b[0m\u001b[0;34m.\u001b[0m\u001b[0mimshow\u001b[0m\u001b[0;34m(\u001b[0m\u001b[0mcellG\u001b[0m\u001b[0;34m,\u001b[0m \u001b[0mcmap\u001b[0m \u001b[0;34m=\u001b[0m \u001b[0;34m'Greys_r'\u001b[0m\u001b[0;34m)\u001b[0m\u001b[0;34m\u001b[0m\u001b[0;34m\u001b[0m\u001b[0m\n",
      "\u001b[0;31merror\u001b[0m: OpenCV(4.2.0) /Users/travis/build/skvark/opencv-python/opencv/modules/imgproc/src/color.simd_helpers.hpp:92: error: (-2:Unspecified error) in function 'cv::impl::(anonymous namespace)::CvtHelper<cv::impl::(anonymous namespace)::Set<3, 4, -1>, cv::impl::(anonymous namespace)::Set<1, -1, -1>, cv::impl::(anonymous namespace)::Set<0, 2, 5>, cv::impl::(anonymous namespace)::SizePolicy::NONE>::CvtHelper(cv::InputArray, cv::OutputArray, int) [VScn = cv::impl::(anonymous namespace)::Set<3, 4, -1>, VDcn = cv::impl::(anonymous namespace)::Set<1, -1, -1>, VDepth = cv::impl::(anonymous namespace)::Set<0, 2, 5>, sizePolicy = cv::impl::(anonymous namespace)::SizePolicy::NONE]'\n> Invalid number of channels in input image:\n>     'VScn::contains(scn)'\n> where\n>     'scn' is 1\n"
     ]
    }
   ],
   "source": [
    "cell2 = cv.imread(\"test_stack.tif\", cv.IMREAD_UNCHANGED)\n",
    "print(cell2)\n",
    "plt.imshow(cell2)\n",
    "plt.show()\n",
    "gray = cv.cvtColor(cell2, cv.COLOR_BGR2GRAY)\n",
    "ret, cellG = cv.threshold(gray, 254, 255, 0)\n",
    "plt.imshow(cellG, cmap = 'Greys_r')\n",
    "plt.show()\n",
    "protien2 = cv.imread(\"Protien.png\")\n",
    "grayP = cv.cvtColor(protien2, cv.COLOR_BGR2GRAY)\n",
    "ret, protienG = cv.threshold(grayP, 254, 255, 0)\n",
    "dim = (400,400)\n",
    "cellG = cv.resize(cellG,dim)\n",
    "protienG = cv.resize(protienG,dim)\n",
    "not_cell = cv.bitwise_not(cellG)\n",
    "not_protien = cv.bitwise_not(protienG)\n",
    "over = cv.bitwise_and(not_cell,not_protien)\n",
    "plt.imshow(not_cell)\n",
    "plt.show()\n",
    "plt.imshow(not_protien)\n",
    "plt.show()\n",
    "plt.imshow(over)\n",
    "plt.show()"
   ]
  },
  {
   "cell_type": "markdown",
   "metadata": {},
   "source": [
    "*Using OpenCV we can resize the images without messing up the pixel values, it also has bitwise opperations so we can get the cross section with an \"and\" opperation.  Needed to invert my original image because we need the true values to be the cell and the protien for when we do the \"and\"*"
   ]
  },
  {
   "cell_type": "markdown",
   "metadata": {},
   "source": [
    "__Next step is measuring area__"
   ]
  },
  {
   "cell_type": "code",
   "execution_count": 8,
   "metadata": {},
   "outputs": [],
   "source": [
    "#full_cell = Image.fromarray(not_cell)\n",
    "#overlap = Image.fromarray(over)\n",
    "#white_full = 0\n",
    "#white_over = 0\n",
    "#for pixel in full_cell.getdata():\n",
    "#    if pixel == (255, 255, 255):\n",
    "#        white_full += 1\n",
    "#for pixel in overlap.getdata():\n",
    "#    if pixel == (255, 255, 255):\n",
    "#        white_over += 1\n",
    "#coverage = white_over/white_full\n",
    "#print(coverage)"
   ]
  },
  {
   "cell_type": "markdown",
   "metadata": {},
   "source": [
    "Now we can see that 75% of the cell is overlapping with the protien"
   ]
  },
  {
   "cell_type": "code",
   "execution_count": 9,
   "metadata": {},
   "outputs": [
    {
     "data": {
      "image/png": "[encoded data removed]",
      "text/plain": [
       "<Figure size 432x288 with 1 Axes>"
      ]
     },
     "metadata": {
      "needs_background": "light"
     },
     "output_type": "display_data"
    },
    {
     "data": {
      "image/png": "[encoded data removed]",
      "text/plain": [
       "<Figure size 432x288 with 1 Axes>"
      ]
     },
     "metadata": {
      "needs_background": "light"
     },
     "output_type": "display_data"
    }
   ],
   "source": [
    "white_cell =not_cell.copy()\n",
    "#cell_gray = cv.cvtColor(white_cell, cv.COLOR_BGR2GRAY)\n",
    "#ret, thresh = cv.threshold(cell_gray, 127, 255, 0)\n",
    "plt.imshow(not_cell, cmap = 'Greys_r')\n",
    "plt.show()\n",
    "contours, hierarchy = cv.findContours(white_cell,cv.RETR_EXTERNAL,cv.CHAIN_APPROX_NONE)\n",
    "cv.drawContours(not_cell, contours, -1, (255,0,0), 3)\n",
    "plt.imshow(not_cell)\n",
    "plt.show()\n",
    "white_protien =not_protien.copy()\n",
    "#protien_gray = cv.cvtColor(white_protien, cv.COLOR_BGR2GRAY)\n",
    "#___, threshP = cv.threshold(protien_gray, 127, 255, 0)\n",
    "contoursP, ____ = cv.findContours(white_protien,cv.RETR_TREE,cv.CHAIN_APPROX_NONE)\n",
    "#cv.drawContours(not_protien, contoursP, -1, (255,0,0), 3)\n",
    "#plt.imshow(not_protien)\n",
    "#plt.show()"
   ]
  },
  {
   "cell_type": "markdown",
   "metadata": {},
   "source": [
    "Here we can find the contour we need for "
   ]
  },
  {
   "cell_type": "code",
   "execution_count": 10,
   "metadata": {},
   "outputs": [
    {
     "data": {
      "image/png": "[encoded data removed]",
      "text/plain": [
       "<Figure size 432x288 with 1 Axes>"
      ]
     },
     "metadata": {
      "needs_background": "light"
     },
     "output_type": "display_data"
    },
    {
     "name": "stdout",
     "output_type": "stream",
     "text": [
      "((243, 233), 1.0)\n"
     ]
    },
    {
     "data": {
      "image/png": "[encoded data removed]",
      "text/plain": [
       "<Figure size 432x288 with 1 Axes>"
      ]
     },
     "metadata": {
      "needs_background": "light"
     },
     "output_type": "display_data"
    },
    {
     "name": "stdout",
     "output_type": "stream",
     "text": [
      "((105, 130), 0.6387085137085138)\n"
     ]
    }
   ],
   "source": [
    "for cntr in contours:\n",
    "    test_protien = not_protien.copy()\n",
    "    cv.fillPoly(test_protien, cntr, color=(255,255,255))\n",
    "    #test_gray = cv.cvtColor(test_protien, cv.COLOR_BGR2GRAY)\n",
    "    #plt.imshow(test_protien, cmap = 'Greys_r')\n",
    "    #plt.show()\n",
    "    #___, threshTest = cv.threshold(test_gray, 127, 255, 0)\n",
    "    contoursTest, ____ = cv.findContours(test_protien,cv.RETR_TREE,cv.CHAIN_APPROX_NONE)\n",
    "    cv.drawContours(test_protien, contoursTest, -1, (0,255,0), 3)\n",
    "    plt.imshow(test_protien)\n",
    "    plt.show()\n",
    "    overlap = cv.contourArea(contoursTest[0]) - cv.contourArea(contoursP[0]) \n",
    "    M = cv.moments(cntr)\n",
    "    cx = int(M['m10']/M['m00'])\n",
    "    cy = int(M['m01']/M['m00'])\n",
    "    center = (cx,cy)\n",
    "    area = 1-overlap/cv.contourArea(cntr)\n",
    "    print((center,area))\n"
   ]
  },
  {
   "cell_type": "code",
   "execution_count": null,
   "metadata": {},
   "outputs": [],
   "source": []
  },
  {
   "cell_type": "code",
   "execution_count": null,
   "metadata": {},
   "outputs": [],
   "source": []
  },
  {
   "cell_type": "code",
   "execution_count": null,
   "metadata": {},
   "outputs": [],
   "source": []
  }
 ],
 "metadata": {
  "kernelspec": {
   "display_name": "Python 3",
   "language": "python",
   "name": "python3"
  },
  "language_info": {
   "codemirror_mode": {
    "name": "ipython",
    "version": 3
   },
   "file_extension": ".py",
   "mimetype": "text/x-python",
   "name": "python",
   "nbconvert_exporter": "python",
   "pygments_lexer": "ipython3",
   "version": "3.7.6"
  }
 },
 "nbformat": 4,
 "nbformat_minor": 4
}
