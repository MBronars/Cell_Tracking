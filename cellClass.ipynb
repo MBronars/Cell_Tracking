{
 "cells": [
  {
   "cell_type": "code",
   "execution_count": null,
   "metadata": {},
   "outputs": [],
   "source": [
    "class Cell:\n",
    "    def _init_(self, name, frame, pos):\n",
    "        self.name = name\n",
    "        self.last = pos\n",
    "        self.used = False\n",
    "        self.gone = False\n",
    "        self.start = frame\n",
    "        self.history = []\n",
    "        history.append(pos)\n",
    "    def displayData(self):\n",
    "        print(\"Cell \" + self.name + \":\")\n",
    "        i = self.start\n",
    "        for c in self.history:\n",
    "            print(\"Frame \" + i + \": \" + c)\n",
    "        "
   ]
  }
 ],
 "metadata": {
  "kernelspec": {
   "display_name": "Python 3",
   "language": "python",
   "name": "python3"
  },
  "language_info": {
   "codemirror_mode": {
    "name": "ipython",
    "version": 3
   },
   "file_extension": ".py",
   "mimetype": "text/x-python",
   "name": "python",
   "nbconvert_exporter": "python",
   "pygments_lexer": "ipython3",
   "version": "3.7.6"
  }
 },
 "nbformat": 4,
 "nbformat_minor": 4
}
