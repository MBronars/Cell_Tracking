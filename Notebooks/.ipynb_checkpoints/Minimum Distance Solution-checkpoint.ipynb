{
 "cells": [
  {
   "cell_type": "code",
   "execution_count": null,
   "metadata": {},
   "outputs": [],
   "source": [
    "def match(oldPos, newPos):\n",
    "    positionMatches = []\n",
    "    final = []\n",
    "    for x in oldPos:\n",
    "        close = closest(x, newPos)\n",
    "        positionMatches.append(close)\n",
    "    singles = checkDuplicates(positionMatches)\n",
    "    if len(singles) == len(positionMatches):\n",
    "        return positionMatches\n",
    "    for x in singles:\n",
    "        dex = x[0]\n",
    "        val = x[1]\n",
    "        point = (oldPos[dex],val)\n",
    "        final.append(point)\n",
    "    for x in final:\n",
    "        oldPos.remove(x[0])\n",
    "        newPos.remove(x[1])\n",
    "        \n",
    "def closest(pos, newPos):\n",
    "    best = 99999\n",
    "    location = pos\n",
    "    for x in newPos:\n",
    "        dist = distance(pos,x)\n",
    "        if dist < best:\n",
    "            best = dist\n",
    "            location = x\n",
    "    return location\n",
    "    \n",
    "def distance(x,y):\n",
    "    return ((x[0]-y[0])**2 + (x[1]-y[1])**2)**(1/2)\n",
    "    \n",
    "def checkDuplicates(items):\n",
    "    index = -1\n",
    "    count = 0\n",
    "    dups = []\n",
    "    for x in items:\n",
    "        index += 1\n",
    "        count = 0\n",
    "        for y in items:\n",
    "            if x == y:\n",
    "                count += 1\n",
    "        if count == 1:\n",
    "            dups.append((index,x))\n",
    "    \n",
    "    "
   ]
  }
 ],
 "metadata": {
  "kernelspec": {
   "display_name": "Python 3",
   "language": "python",
   "name": "python3"
  },
  "language_info": {
   "codemirror_mode": {
    "name": "ipython",
    "version": 3
   },
   "file_extension": ".py",
   "mimetype": "text/x-python",
   "name": "python",
   "nbconvert_exporter": "python",
   "pygments_lexer": "ipython3",
   "version": "3.7.6"
  }
 },
 "nbformat": 4,
 "nbformat_minor": 4
}
